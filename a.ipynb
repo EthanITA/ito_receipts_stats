{
 "cells": [
  {
   "cell_type": "code",
   "execution_count": 33,
   "metadata": {
    "collapsed": true
   },
   "outputs": [],
   "source": [
    "import pandas as pd"
   ]
  },
  {
   "cell_type": "code",
   "execution_count": 34,
   "outputs": [],
   "source": [
    "all_products = pd.read_excel(\"././receipts/all.xls\", )"
   ],
   "metadata": {
    "collapsed": false,
    "pycharm": {
     "name": "#%%\n"
    }
   }
  },
  {
   "cell_type": "code",
   "execution_count": 35,
   "outputs": [
    {
     "name": "stdout",
     "output_type": "stream",
     "text": [
      "                      Data Settimana  CASSA  Numero  Importo         \\\n",
      "0      2021-01-19 11:45:05   Martedì      2       1     9.56     34   \n",
      "1      2021-01-19 11:46:25   Martedì      2       2    11.36     35   \n",
      "2      2021-01-19 13:17:49   Martedì      2       3     2.78     36   \n",
      "3      2021-01-19 14:43:07   Martedì      2       4    25.65     37   \n",
      "4      2021-01-19 15:04:00   Martedì      2       5     8.98     38   \n",
      "...                    ...       ...    ...     ...      ...    ...   \n",
      "21868  2021-07-25 19:50:14  Domenica      2     166     6.98  21866   \n",
      "21869  2021-07-25 19:58:07  Domenica      2     167     1.00  21867   \n",
      "21870  2021-07-25 20:01:02  Domenica      2     168     5.99  21868   \n",
      "21871  2021-07-25 20:04:23  Domenica      2     169     5.99  21869   \n",
      "21872  2021-07-25 20:08:46  Domenica      2     170     0.00  21870   \n",
      "\n",
      "       Operatore Pagamento  Negozio  \n",
      "0              1  Contanti        1  \n",
      "1              1  Contanti        1  \n",
      "2              1  Contanti        1  \n",
      "3              1  Bancomat        1  \n",
      "4              1  Contanti        1  \n",
      "...          ...       ...      ...  \n",
      "21868          1  Contanti        1  \n",
      "21869          1  Contanti        1  \n",
      "21870          1  Bancomat        1  \n",
      "21871          1  Contanti        1  \n",
      "21872          1  Contanti        1  \n",
      "\n",
      "[21873 rows x 9 columns]\n"
     ]
    }
   ],
   "source": [
    "print(all_products)"
   ],
   "metadata": {
    "collapsed": false,
    "pycharm": {
     "name": "#%%\n"
    }
   }
  },
  {
   "cell_type": "code",
   "execution_count": 36,
   "outputs": [],
   "source": [
    "from datetime import datetime\n",
    "date_pattern = '%y-%m-%d %H:%M:%S'"
   ],
   "metadata": {
    "collapsed": false,
    "pycharm": {
     "name": "#%%\n"
    }
   }
  },
  {
   "cell_type": "code",
   "execution_count": 37,
   "outputs": [
    {
     "name": "stdout",
     "output_type": "stream",
     "text": [
      "Index(['Data', 'Settimana', 'CASSA', 'Numero', 'Importo', ' ', 'Operatore',\n",
      "       'Pagamento', 'Negozio'],\n",
      "      dtype='object')\n"
     ]
    }
   ],
   "source": [
    "del all_products[\"Operatore\"]\n",
    "del all_products[\"Negozio\"]\n",
    "del all_products[' ']"
   ],
   "metadata": {
    "collapsed": false,
    "pycharm": {
     "name": "#%%\n"
    }
   }
  },
  {
   "cell_type": "code",
   "execution_count": 39,
   "outputs": [
    {
     "name": "stdout",
     "output_type": "stream",
     "text": [
      "Index(['Data', 'Settimana', 'CASSA', 'Numero', 'Importo', 'Pagamento'], dtype='object')\n"
     ]
    }
   ],
   "source": [
    "print(all_products.keys())"
   ],
   "metadata": {
    "collapsed": false,
    "pycharm": {
     "name": "#%%\n"
    }
   }
  },
  {
   "cell_type": "code",
   "execution_count": null,
   "outputs": [],
   "source": [
    "for i, receipt in all_products.iterrows():\n",
    "    if i == 1:"
   ],
   "metadata": {
    "collapsed": false,
    "pycharm": {
     "name": "#%%\n"
    }
   }
  }
 ],
 "metadata": {
  "kernelspec": {
   "display_name": "Python 3",
   "language": "python",
   "name": "python3"
  },
  "language_info": {
   "codemirror_mode": {
    "name": "ipython",
    "version": 2
   },
   "file_extension": ".py",
   "mimetype": "text/x-python",
   "name": "python",
   "nbconvert_exporter": "python",
   "pygments_lexer": "ipython2",
   "version": "2.7.6"
  }
 },
 "nbformat": 4,
 "nbformat_minor": 0
}