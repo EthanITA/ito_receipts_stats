{
 "cells": [
  {
   "cell_type": "code",
   "execution_count": 29,
   "metadata": {
    "collapsed": true
   },
   "outputs": [
    {
     "name": "stdout",
     "output_type": "stream",
     "text": [
      "                  Data Settimana  CASSA  Numero  Importo Pagamento\n",
      "1  2021-07-25 09:15:18  Domenica      2       2     3.99  Contanti\n",
      "2  2021-07-25 09:18:41  Domenica      2       3     9.48  Contanti\n",
      "3  2021-07-25 09:24:03  Domenica      2       4     4.99  Contanti\n",
      "4  2021-07-25 09:27:19  Domenica      2       5     3.99  Contanti\n",
      "5  2021-07-25 09:39:47  Domenica      2       6    27.80  Contanti\n",
      "6  2021-07-25 09:49:58  Domenica      2       7    24.37  Bancomat\n",
      "7  2021-07-25 09:55:48  Domenica      2       8    36.53  Bancomat\n",
      "8  2021-07-25 10:00:02  Domenica      2       9     6.28  Bancomat\n",
      "9  2021-07-25 10:10:33  Domenica      2      10     1.79  Contanti\n"
     ]
    }
   ],
   "source": [
    "import pandas as pd\n",
    "\n",
    "receipts = pd.read_excel(\"././receipts/all2.xls\", )\n",
    "del receipts[\"Operatore\"]\n",
    "del receipts[\"Negozio\"]\n",
    "del receipts[' ']\n",
    "\n",
    "date_pattern = '%Y-%m-%d %H:%M:%S'\n",
    "print(receipts.iloc[1:10])"
   ]
  },
  {
   "cell_type": "code",
   "execution_count": 30,
   "outputs": [],
   "source": [
    "import datetime\n"
   ],
   "metadata": {
    "collapsed": false,
    "pycharm": {
     "name": "#%%\n"
    }
   }
  },
  {
   "cell_type": "code",
   "execution_count": 31,
   "outputs": [
    {
     "name": "stdout",
     "output_type": "stream",
     "text": [
      "None\n",
      "None\n",
      "None\n",
      "None\n",
      "None\n",
      "None\n",
      "None\n",
      "None\n",
      "None\n",
      "None\n",
      "None\n",
      "None\n"
     ]
    }
   ],
   "source": [
    "old = -1\n",
    "for i, receipt in receipts.iterrows():\n",
    "    if i != 0 and receipt[\"Numero\"] == 1 or len(receipts.index) - 1 == i:\n",
    "        date = datetime.datetime.strptime(receipts.iloc[i - 1][\"Data\"], date_pattern)\n",
    "        print(receipts.iloc[old + 1:i].to_csv(f\"./receipts/{date.year}.{date.month}.{date.day}.csv\"))\n",
    "        old = i - 1\n"
   ],
   "metadata": {
    "collapsed": false,
    "pycharm": {
     "name": "#%%\n"
    }
   }
  }
 ],
 "metadata": {
  "kernelspec": {
   "display_name": "Python 3",
   "language": "python",
   "name": "python3"
  },
  "language_info": {
   "codemirror_mode": {
    "name": "ipython",
    "version": 2
   },
   "file_extension": ".py",
   "mimetype": "text/x-python",
   "name": "python",
   "nbconvert_exporter": "python",
   "pygments_lexer": "ipython2",
   "version": "2.7.6"
  }
 },
 "nbformat": 4,
 "nbformat_minor": 0
}